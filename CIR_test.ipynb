{
 "cells": [
  {
   "cell_type": "markdown",
   "id": "bbd19f70-afe7-4679-9ce9-d04a8f3a3de0",
   "metadata": {},
   "source": [
    "## CIR model \n",
    "\n",
    "The $Q$ dynamics of the short rate in the C.I.R. model is the following:\n",
    "\n",
    "$$\n",
    "    dr_t = k(\\theta - r_t)dt +\\sigma\\sqrt{r_t}dW_t\n",
    "$$\n",
    "\n",
    "The conditional mean and variance are:\n",
    "\n",
    "$$\n",
    "\\mathbb{E}[r_t|r_s] = r_s e^{-k(t-s)} + \\theta(1-e^{-k(t-s)}) \\quad \\forall s<t \n",
    "$$\n",
    "\n",
    "$$\n",
    "\\operatorname{Var}[r_t \\mid r_s] = r_s \\frac{\\sigma^2}{k} \\left(e^{-k(t-s)} - e^{-2k(t-s)} \\right) + \\frac{\\theta \\sigma^2}{2k} (1 - e^{-k(t-s)})^2 \\quad \\forall s < t\r\n",
    "$$"
   ]
  },
  {
   "cell_type": "markdown",
   "id": "b17ca2b4-5767-4303-80ee-c7fe5ab7f981",
   "metadata": {},
   "source": [
    "The zero-coupon bond pricing formula:\n",
    "$$\n",
    "    \\begin{split}\n",
    "        &P(t,T) = \\exp\\{A(t,T) - B(t,T)r_t\\}\\\\\n",
    "        &B(t,T) = \\frac{2(\\exp((T-t)h)-1)}{2h + (k+h)(\\exp\\{(T-t)h\\}-1)}\\\\\n",
    "        &A(t,T) = \\frac{2k\\theta}{\\sigma^2}\\log\\bigg\\{\\frac{2h\\exp\\{(k+h)(T-t)/2\\}}{2h + (k+h)(\\exp\\{(T-t)h\\}-1)}\\bigg\\}\\\\\n",
    "        &h = \\sqrt{k^2 + 2\\sigma^2}\n",
    "    \\end{split}\n",
    "$$"
   ]
  },
  {
   "cell_type": "code",
   "execution_count": 9,
   "id": "28e17914-c8cc-4592-8c95-952ed352985b",
   "metadata": {},
   "outputs": [],
   "source": [
    "import numpy as np \n",
    "from functions import *\n",
    "from scipy.optimize import minimize, Bounds\n",
    "import matplotlib.pyplot as plt"
   ]
  },
  {
   "cell_type": "code",
   "execution_count": 2,
   "id": "6cce541f-d451-434e-9491-c8bdd5d9b529",
   "metadata": {},
   "outputs": [],
   "source": [
    "true_theta = .025\n",
    "true_k = 22.524\n",
    "true_sigma = .952\n",
    "true_r0 = .00175\n",
    "\n",
    "maturities = np.cumsum(np.ones(36) * (1/12))\n",
    "True_bonds = CIR_bond(true_r0, true_theta, true_k, true_sigma, maturities)"
   ]
  },
  {
   "cell_type": "code",
   "execution_count": 3,
   "id": "d7bea491-6bed-4929-b885-a52aabc6d44f",
   "metadata": {},
   "outputs": [
    {
     "data": {
      "text/plain": [
       "array([0.08333333, 0.16666667, 0.25      , 0.33333333, 0.41666667,\n",
       "       0.5       , 0.58333333, 0.66666667, 0.75      , 0.83333333,\n",
       "       0.91666667, 1.        , 1.08333333, 1.16666667, 1.25      ,\n",
       "       1.33333333, 1.41666667, 1.5       , 1.58333333, 1.66666667,\n",
       "       1.75      , 1.83333333, 1.91666667, 2.        , 2.08333333,\n",
       "       2.16666667, 2.25      , 2.33333333, 2.41666667, 2.5       ,\n",
       "       2.58333333, 2.66666667, 2.75      , 2.83333333, 2.91666667,\n",
       "       3.        ])"
      ]
     },
     "execution_count": 3,
     "metadata": {},
     "output_type": "execute_result"
    }
   ],
   "source": [
    "maturities"
   ]
  },
  {
   "cell_type": "code",
   "execution_count": 4,
   "id": "440a1a9a-b937-4186-ae7f-15c51f9fa59e",
   "metadata": {},
   "outputs": [
    {
     "data": {
      "text/plain": [
       "array([0.99879194, 0.99684789, 0.99479534, 0.99272992, 0.9906662 ,\n",
       "       0.98860637, 0.98655076, 0.98449941, 0.98245233, 0.98040951,\n",
       "       0.97837093, 0.9763366 , 0.97430649, 0.9722806 , 0.97025893,\n",
       "       0.96824146, 0.96622818, 0.96421909, 0.96221418, 0.96021344,\n",
       "       0.95821686, 0.95622443, 0.95423614, 0.95225198, 0.95027196,\n",
       "       0.94829605, 0.94632424, 0.94435654, 0.94239293, 0.9404334 ,\n",
       "       0.93847795, 0.93652656, 0.93457923, 0.93263595, 0.93069671,\n",
       "       0.9287615 ])"
      ]
     },
     "execution_count": 4,
     "metadata": {},
     "output_type": "execute_result"
    }
   ],
   "source": [
    "True_bonds"
   ]
  },
  {
   "cell_type": "code",
   "execution_count": 5,
   "id": "82dbfb36-06d6-4652-ae16-4dba9ac7707b",
   "metadata": {},
   "outputs": [],
   "source": [
    "parms = np.array([0.015,  19, 0.6, .00175])\n",
    "res = calibrate_cir(parms, True_bonds, maturities, method='L-BFGS-B')"
   ]
  },
  {
   "cell_type": "code",
   "execution_count": 6,
   "id": "56d064c4-57fb-4241-81c6-40e5b1cbc9a8",
   "metadata": {},
   "outputs": [
    {
     "data": {
      "text/plain": [
       "array([2.50361067e-02, 1.90000022e+01, 5.99999832e-01, 4.46016391e-03])"
      ]
     },
     "execution_count": 6,
     "metadata": {},
     "output_type": "execute_result"
    }
   ],
   "source": [
    "res.x"
   ]
  },
  {
   "cell_type": "code",
   "execution_count": 7,
   "id": "5881c158-7533-4ee3-8d78-38022f5781db",
   "metadata": {},
   "outputs": [
    {
     "data": {
      "text/plain": [
       "1.1147996316367324e-07"
      ]
     },
     "execution_count": 7,
     "metadata": {},
     "output_type": "execute_result"
    }
   ],
   "source": [
    "res.fun"
   ]
  },
  {
   "cell_type": "code",
   "execution_count": 8,
   "id": "90086527-3457-4178-969e-e381c1366e65",
   "metadata": {},
   "outputs": [
    {
     "data": {
      "text/plain": [
       "array([-5.26159661e-10, -7.47817534e-08, -4.94489759e-09, -2.07444986e-10])"
      ]
     },
     "execution_count": 8,
     "metadata": {},
     "output_type": "execute_result"
    }
   ],
   "source": [
    "res.jac"
   ]
  },
  {
   "cell_type": "code",
   "execution_count": null,
   "id": "a7a491d6-f83f-4165-a618-bc195cbff583",
   "metadata": {},
   "outputs": [],
   "source": []
  }
 ],
 "metadata": {
  "kernelspec": {
   "display_name": "Python 3 (ipykernel)",
   "language": "python",
   "name": "python3"
  },
  "language_info": {
   "codemirror_mode": {
    "name": "ipython",
    "version": 3
   },
   "file_extension": ".py",
   "mimetype": "text/x-python",
   "name": "python",
   "nbconvert_exporter": "python",
   "pygments_lexer": "ipython3",
   "version": "3.10.13"
  }
 },
 "nbformat": 4,
 "nbformat_minor": 5
}

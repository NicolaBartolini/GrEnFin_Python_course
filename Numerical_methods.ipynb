{
 "cells": [
  {
   "cell_type": "markdown",
   "id": "88e4715f-978a-4ddb-b696-508cbdd4700a",
   "metadata": {},
   "source": [
    "## Numerical integration"
   ]
  },
  {
   "cell_type": "code",
   "execution_count": 1,
   "id": "2dfccb4d-8af9-48b8-b336-f82b82e00c13",
   "metadata": {},
   "outputs": [],
   "source": [
    "from numerical_methods import *\n",
    "import numpy as np"
   ]
  },
  {
   "cell_type": "markdown",
   "id": "5d2d0ea5-77ed-4bb0-9b1b-18a3a9e92fce",
   "metadata": {},
   "source": [
    "### Rectangle rule\n",
    "\n",
    "Let $f:[a,b]\\rightarrow\\mathbf{R}$ be Riemann integrable, then the rectangle rule approximate the integral $\\int_{a}^{b}f(t)dt$ with $\\sum_{i=1}^n f(t_{i-1})(t_i-t_{i-1})$ with $t_i-t_{i-1} = \\Delta_t$ we have $\\Delta_t \\sum_{i=1}^n f(t_{i-1})$\n"
   ]
  },
  {
   "cell_type": "code",
   "execution_count": 2,
   "id": "2e2c7832-4889-4c34-be3e-1ec7e4e1333f",
   "metadata": {},
   "outputs": [
    {
     "name": "stdout",
     "output_type": "stream",
     "text": [
      "0.2850000000000001\n",
      "0.32835000000000003\n",
      "0.3328335\n",
      "0.333283335\n"
     ]
    }
   ],
   "source": [
    "fun = lambda x: x**2\n",
    "print(rectangle_rule(fun, 0, 1, 10))\n",
    "print(rectangle_rule(fun, 0, 1, 100))\n",
    "print(rectangle_rule(fun, 0, 1, 1000))\n",
    "print(rectangle_rule(fun, 0, 1, 10000))"
   ]
  },
  {
   "cell_type": "markdown",
   "id": "8cf549bf-25ac-41fd-927e-cf052c1c175f",
   "metadata": {},
   "source": [
    "### Trapezoidal Rule for Numerical Integration\n",
    "\n",
    "The Trapezoidal Rule is a numerical method to approximate the definite integral of a function. It works by approximating the region under the curve as a series of trapezoids and summing their areas.\n",
    "\n",
    "#### Mathematical Formulation\n",
    "\n",
    "Given a function $ f(x) $ and an interval $ [a, b] $, the integral:\n",
    "\n",
    "$$ I = \\int_a^b f(x) \\, dx $$\n",
    "\n",
    "can be approximated using the Trapezoidal Rule as:\n",
    "\n",
    "$$ I \\approx \\frac{b-a}{2} \\left[ f(a) + f(b) \\right] $$\n",
    "\n",
    "For better accuracy, the interval $ [a, b] $ is divided into $ n $ subintervals, each of width:\n",
    "\n",
    "$$ h = \\frac{b - a}{n} $$\n",
    "\n",
    "The integral is then approximated as:\n",
    "\n",
    "$$ I \\approx \\frac{h}{2} \\left[ f(x_0) + 2 \\sum_{i=1}^{n-1} f(x_i) + f(x_n) \\right] $$\n",
    "\n",
    "where:\n",
    "\n",
    "- $( x_0 = a )$,  $( x_n = b )$\n",
    "- $( x_i = a + i h )$ for $( i = 1, 2, ..., n-1 )$"
   ]
  },
  {
   "cell_type": "code",
   "execution_count": 3,
   "id": "34751d8f-dae9-4ef4-8174-b9655817ab6c",
   "metadata": {},
   "outputs": [
    {
     "name": "stdout",
     "output_type": "stream",
     "text": [
      "0.3350000000000001\n",
      "0.33335000000000004\n",
      "0.33333349999999995\n",
      "0.33333333500000006\n"
     ]
    }
   ],
   "source": [
    "fun = lambda x: x**2\n",
    "print(trapezoidal_rule(fun, 0, 1, 10))\n",
    "print(trapezoidal_rule(fun, 0, 1, 100))\n",
    "print(trapezoidal_rule(fun, 0, 1, 1000))\n",
    "print(trapezoidal_rule(fun, 0, 1, 10000))"
   ]
  },
  {
   "cell_type": "markdown",
   "id": "39d03093-7413-491c-9b6e-5e96869b7e7b",
   "metadata": {},
   "source": [
    "### Midpoint Rule for Numerical Integration\n",
    "\n",
    "The Midpoint Rule is a numerical method used to approximate the definite integral of a function. It is based on approximating the function with a constant value equal to the function's value at the midpoint of each subinterval.\n",
    "\n",
    "#### Mathematical Formulation\n",
    "\n",
    "Given a function $f(x)$ and an interval $[a, b]$, the integral:\n",
    "\n",
    "$$ I = \\int_a^b f(x) \\, dx $$\n",
    "\n",
    "can be approximated by dividing the interval $ [a, b] $ into $ n $ subintervals of equal width:\n",
    "\n",
    "$$ h = \\frac{b - a}{n} $$\n",
    "\n",
    "The Midpoint Rule approximates the integral as:\n",
    "\n",
    "$$ I \\approx h \\sum_{i=1}^{n} f(x_i^*) $$\n",
    "\n",
    "where $ x_i^* $ is the midpoint of each subinterval:\n",
    "\n",
    "$$ x_i^* = a + \\left(i - \\frac{1}{2}\\right) h $$"
   ]
  },
  {
   "cell_type": "code",
   "execution_count": 4,
   "id": "0934c2a4-8901-4cc1-a886-5600ebc60202",
   "metadata": {},
   "outputs": [
    {
     "name": "stdout",
     "output_type": "stream",
     "text": [
      "0.29907407407407405\n",
      "0.3299915824915825\n",
      "0.33299991658324984\n",
      "0.33329999916658337\n"
     ]
    }
   ],
   "source": [
    "fun = lambda x: x**2\n",
    "print(midpoint_rule(fun, 0, 1, 10))\n",
    "print(midpoint_rule(fun, 0, 1, 100))\n",
    "print(midpoint_rule(fun, 0, 1, 1000))\n",
    "print(midpoint_rule(fun, 0, 1, 10000))"
   ]
  },
  {
   "cell_type": "markdown",
   "id": "f664f7ab-71bc-4386-a46e-b9a21133b90a",
   "metadata": {},
   "source": [
    "### Midpoint Rule for Double Integration\n",
    "\n",
    "The Midpoint Rule is a numerical method for approximating the double integral of a function over a rectangular region. It approximates the integral by evaluating the function at the midpoint of subrectangles and summing the contributions.\n",
    "\n",
    "#### Mathematical Formulation\n",
    "\n",
    "Given a function $ f(x, y) $ over the rectangular domain $ [a, b] \\times [c, d] $, the double integral:\n",
    "\n",
    "$$ I = \\int_a^b \\int_c^d f(x, y) \\, dy \\, dx $$\n",
    "\n",
    "can be approximated using the Midpoint Rule by dividing the domain into $ m $ subintervals along $ x $ and $ n $ subintervals along $ y $. The step sizes are:\n",
    "\n",
    "$$ \\Delta x = \\frac{b - a}{m}, \\quad \\Delta y = \\frac{d - c}{n} $$\n",
    "\n",
    "The approximate integral is:\n",
    "\n",
    "$$ I \\approx \\sum_{i=1}^{m} \\sum_{j=1}^{n} f(x_i^*, y_j^*) \\Delta x \\Delta y $$\n",
    "\n",
    "where $ (x_i^*, y_j^*) $ are the midpoints of each subrectangle:\n",
    "\n",
    "$$ x_i^* = a + \\left(i - \\frac{1}{2}\\right) \\Delta x, \\quad y_j^* = c + \\left(j - \\frac{1}{2}\\right) \\Delta y $$"
   ]
  },
  {
   "cell_type": "code",
   "execution_count": 5,
   "id": "9669c49a-f010-470f-a052-903659202ac6",
   "metadata": {},
   "outputs": [
    {
     "name": "stdout",
     "output_type": "stream",
     "text": [
      "1.5\n"
     ]
    }
   ],
   "source": [
    "test_fun = lambda x,y: 2*x + y\n",
    "\n",
    "print(midpoint_double(test_fun, 0, 1, 0, 1, 100, 100))"
   ]
  },
  {
   "cell_type": "code",
   "execution_count": 6,
   "id": "16f28bbc-47cc-49fc-b433-f078359aaacf",
   "metadata": {},
   "outputs": [
    {
     "name": "stdout",
     "output_type": "stream",
     "text": [
      "-0.49999999999999994\n"
     ]
    }
   ],
   "source": [
    "test_fun = lambda x,y,z: 2*x + y - 4*z\n",
    "\n",
    "print(midpoint_triple(test_fun, 0, 1, 0, 1, 0, 1, 100, 100, 100))"
   ]
  },
  {
   "cell_type": "markdown",
   "id": "c816071c-5c20-46da-92f4-7bc13d7e00f2",
   "metadata": {},
   "source": [
    "## Root finding "
   ]
  },
  {
   "cell_type": "markdown",
   "id": "8fc9d32b-67ab-421e-9b77-e4f5291d6c89",
   "metadata": {},
   "source": [
    "## Root finding: Bisection method\n",
    "\n",
    "### Introduction\n",
    "The bisection method is a root-finding technique that repeatedly bisects an interval and then selects a subinterval in which a root must lie. It is a simple and robust method that guarantees convergence for continuous functions that change sign over an interval.\n",
    "\n",
    "### Mathematical Formulation\n",
    "Given a continuous function $f(x)$ on an interval $[a, b]$, the bisection method iteratively reduces the interval by selecting the midpoint:\n",
    "$$\n",
    "    c = \\frac{a + b}{2}\n",
    "$$\n",
    "If $f(c) = 0$, then $c$ is the root. Otherwise, we update the interval as follows:\n",
    "- If $f(a)f(c) < 0$, then the root lies in $[a, c]$, so set $b = c$.\n",
    "- Otherwise, the root lies in $[c, b]$, so set $a = c$.\n",
    "This process continues until the interval is sufficiently small.\n",
    "\n"
   ]
  },
  {
   "cell_type": "code",
   "execution_count": 7,
   "id": "0740a79b-c7d1-478c-a822-1f4f4b22a7fa",
   "metadata": {},
   "outputs": [
    {
     "name": "stdout",
     "output_type": "stream",
     "text": [
      "1.0\n"
     ]
    }
   ],
   "source": [
    "fun = lambda x: x**2 - 1\n",
    "\n",
    "print(bisection_method(fun, 0, 2))"
   ]
  },
  {
   "cell_type": "markdown",
   "id": "547f0615-12d4-4550-a6e6-e6a02a75c3e3",
   "metadata": {},
   "source": [
    "## Root finding: Newton method\n",
    "\n",
    "\n",
    "Newton's method, also known as the Newton-Raphson method, is an efficient iterative technique for finding roots of a differentiable function. It utilizes the function and its derivative to iteratively approximate the root.\n",
    "\n",
    "#### Mathematical Formulation\n",
    "Given a function $f(x)$, Newton's method starts with an initial guess $x_0$ and iterates using the formula:\n",
    "$$\n",
    "    x_{n+1} = x_n - \\frac{f(x_n)}{f'(x_n)}\n",
    "$$\n",
    "where $f'(x)$ is the derivative of $f(x)$. The process continues until the difference between successive approximations is smaller than a given tolerance.\n"
   ]
  },
  {
   "cell_type": "code",
   "execution_count": 8,
   "id": "3083ef98-27b4-43bb-8d03-fdb5ca410ba2",
   "metadata": {},
   "outputs": [
    {
     "name": "stdout",
     "output_type": "stream",
     "text": [
      "1.0000000464611474\n"
     ]
    }
   ],
   "source": [
    "fun = lambda x: x**2 - 1\n",
    "der_fun = lambda x: 2*x\n",
    "\n",
    "print(newton_method(fun, der_fun, 2, 1e-6, 1000))"
   ]
  },
  {
   "cell_type": "markdown",
   "id": "9d333f8f-81ab-45a4-9dfa-36989ed86dd5",
   "metadata": {},
   "source": [
    "## Root finding: Secant method\n",
    "\n",
    "Given a function $f(x)$, the Secant Method starts with two initial approximations, $x_0$ and $x_1$, and iterates using the formula:\n",
    "$$\n",
    "    x_{n+1} = x_n - f(x_n) \\frac{x_n - x_{n-1}}{f(x_n) - f(x_{n-1})}\n",
    "$$\n",
    "This process continues until the difference between successive approximations is smaller than a given tolerance."
   ]
  },
  {
   "cell_type": "code",
   "execution_count": 9,
   "id": "3900eb4a-45a7-4e86-8fdd-37500f5a5a1d",
   "metadata": {},
   "outputs": [
    {
     "name": "stdout",
     "output_type": "stream",
     "text": [
      "1.5213797079848717\n"
     ]
    }
   ],
   "source": [
    "fun = lambda x: x**3 - x - 2\n",
    "\n",
    "print(secant_method(fun, 1, 2))"
   ]
  },
  {
   "cell_type": "code",
   "execution_count": null,
   "id": "8ac6ebea-c001-42d4-9aaf-1e88a649fe53",
   "metadata": {},
   "outputs": [],
   "source": []
  }
 ],
 "metadata": {
  "kernelspec": {
   "display_name": "Python 3 (ipykernel)",
   "language": "python",
   "name": "python3"
  },
  "language_info": {
   "codemirror_mode": {
    "name": "ipython",
    "version": 3
   },
   "file_extension": ".py",
   "mimetype": "text/x-python",
   "name": "python",
   "nbconvert_exporter": "python",
   "pygments_lexer": "ipython3",
   "version": "3.10.13"
  }
 },
 "nbformat": 4,
 "nbformat_minor": 5
}

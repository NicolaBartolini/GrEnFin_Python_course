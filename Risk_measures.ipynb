{
 "cells": [
  {
   "cell_type": "markdown",
   "id": "5cccdbe0-5e61-4b09-822e-97416f5fb120",
   "metadata": {},
   "source": [
    "### Descrizione da decidere\n",
    "\n",
    "# Value at Risk (VaR) and Expected Shortfall (ES)\r\n",
    "\r\n",
    "In quantitative risk management, two widely used measures to assess market risk are the **Value at Risk (VaR)** and the **Expected Shortfall (ES)** (also known as Conditional Value at Risk or CVaR).\r\n",
    "\r\n",
    "## Value at Risk (VaR)\r\n",
    "\r\n",
    "The Value at Risk at confidence level $\\alpha$ (e.g., 95% or 99%) is defined as the maximum expected loss over a given time horizon such that the probability of a loss exceeding this value is no more than $(1 - \\alpha)$.\r\n",
    "\r\n",
    "Mathematically, for a portfolio loss variable $L$:\r\n",
    "$$\r\n",
    "\\text{VaR}_{\\alpha}(L) = \\inf \\{ \\ell \\in \\mathbb{R} \\,:\\, \\mathbb{P}(L \\leq \\ell) \\geq \\alpha \\}\r\n",
    "$$\r\n",
    "\r\n",
    "This is equivalent to the $\\alpha$-quantile of the loss distribution:\r\n",
    "$$\r\n",
    "\\text{VaR}_{\\alpha}(L) = F_L^{-1}(\\alpha)\r\n",
    "$$\r\n",
    "where $F_L$ is the cumulative distribution function of $L$.\r\n",
    "\r\n",
    "## Expected Shortfall (ES)\r\n",
    "\r\n",
    "The Expected Shortfall at level $\\alpha$ measures the expected loss given that the loss exceeds the VaR. It is a coherent risk measure, meaning it satisfies properties like subadditivity and positive homogeneity.\r\n",
    "\r\n",
    "Formally:\r\n",
    "$$\r\n",
    "\\text{ES}_{\\alpha}(L) = \\mathbb{E}[L \\mid L > \\text{VaR}_{\\alpha}(L)]\r\n",
    "$$\r\n",
    "\r\n",
    "or equivalently (assuming a continuous loss distribution):\r\n",
    "$$\r\n",
    "\\text{ES}_{\\alpha}(L) = \\frac{1}{1 - \\alpha} \\int_{\\alpha}^{1} \\text{VaR}_{u}(L) \\, du\r\n",
    "$$\r\n",
    "\r\n",
    "## Interpretation\r\n",
    "\r\n",
    "- $\\text{VaR}_{\\alpha}$ tells us: \"We do not expect to lose more than this amount with probability $\\alpha$.\"\r\n",
    "- $\\text{ES}_{\\alpha}$ tells us: \"If we do lose more than $\\text{VaR}_{\\alpha}$, the average loss will be $\\text{ES}_{\\alpha}$.\"\r\n",
    "\r\n",
    "## Application\r\n",
    "\r\n",
    "In this notebook, we:\r\n",
    "- Estimate historical and parametric VaR and ES based on financial return data.\r\n",
    "- Use fitted GARCH models to forecast future volatility and compute risk measures.\r\n",
    "- Compare the results under normal and Student-t distributional assumptions.\r\n",
    "nd Student-t distributional assumptions.\r\n"
   ]
  },
  {
   "cell_type": "code",
   "execution_count": 14,
   "id": "8e9dc3a7-6dd1-4435-b624-076747ba3eeb",
   "metadata": {},
   "outputs": [],
   "source": [
    "import numpy as np \n",
    "import matplotlib.pyplot as plt \n",
    "from functions import * "
   ]
  },
  {
   "cell_type": "code",
   "execution_count": 32,
   "id": "75433873-235d-49ac-95c2-4b0eb0c3bc64",
   "metadata": {},
   "outputs": [
    {
     "name": "stdout",
     "output_type": "stream",
     "text": [
      "Call price:\t0.3186\n"
     ]
    }
   ],
   "source": [
    "# Let's price a European call  option with 1 year of maturity\n",
    "r = 0\n",
    "sigma = .2\n",
    "S0 = 4\n",
    "K = 4 \n",
    "q = 0\n",
    "T = 1 \n",
    "\n",
    "C = Eurocall_Black_Scholes(S0, K, r, q, sigma, T)\n",
    "\n",
    "print(f'Call price:\\t{C:.4f}')"
   ]
  },
  {
   "cell_type": "code",
   "execution_count": 33,
   "id": "ba0fe4e8-0f70-451e-9d26-7239598b87b2",
   "metadata": {},
   "outputs": [],
   "source": [
    "# Let's find the distribution 6 months ahead of the underlying\n",
    "\n",
    "T1 = .5\n",
    "n_steps = int(.5 * 252)\n",
    "\n",
    "St = simulate_gbm(S0, r, q, sigma, T, n_steps, N=15)"
   ]
  },
  {
   "cell_type": "code",
   "execution_count": 34,
   "id": "6d7892a5-a113-4637-91b0-be51cc128ed6",
   "metadata": {},
   "outputs": [],
   "source": [
    "# Now let's evaluate the the option for the residual time to maturity\n",
    "\n",
    "Calls = Eurocall_Black_Scholes(St[-1], K, r, q, sigma, T-T1)"
   ]
  },
  {
   "cell_type": "code",
   "execution_count": 35,
   "id": "5a0e5bb0-dcde-4396-8449-c1a281ac6653",
   "metadata": {},
   "outputs": [
    {
     "data": {
      "text/plain": [
       "array([0.2742929 , 0.9161716 , 0.61641689, ..., 0.11912215, 0.00932642,\n",
       "       0.06248995])"
      ]
     },
     "execution_count": 35,
     "metadata": {},
     "output_type": "execute_result"
    }
   ],
   "source": [
    "Calls"
   ]
  },
  {
   "cell_type": "code",
   "execution_count": 41,
   "id": "27e816a5-ac68-42c2-b28f-6af98e6e9fb8",
   "metadata": {},
   "outputs": [],
   "source": [
    "# Let's suppose we have a long position in call \n",
    "# Let's define our loss as the difference between the price at six month and the present one \n",
    "\n",
    "loss = -(Calls - C)/C\n"
   ]
  },
  {
   "cell_type": "code",
   "execution_count": 42,
   "id": "98723882-2a6b-457e-bbe5-d82edc57c7db",
   "metadata": {},
   "outputs": [
    {
     "data": {
      "text/plain": [
       "array([ 0.13912945, -1.87541221, -0.93462957, ...,  0.62613413,\n",
       "        0.97072896,  0.80387476])"
      ]
     },
     "execution_count": 42,
     "metadata": {},
     "output_type": "execute_result"
    }
   ],
   "source": [
    "loss"
   ]
  },
  {
   "cell_type": "code",
   "execution_count": 43,
   "id": "9b6296e3-2512-4c2b-a501-601f79bca255",
   "metadata": {},
   "outputs": [
    {
     "data": {
      "image/png": "[encoded data removed]",
      "text/plain": [
       "<Figure size 640x480 with 1 Axes>"
      ]
     },
     "metadata": {},
     "output_type": "display_data"
    }
   ],
   "source": [
    "### Let's plot the distribution of the loss \n",
    "\n",
    "plt.hist(loss, bins=100, density=True)\n",
    "plt.title('Loss distribution')\n",
    "plt.grid()\n",
    "plt.show()"
   ]
  },
  {
   "cell_type": "code",
   "execution_count": 44,
   "id": "593fc266-c542-44ce-a0fd-311580fcd123",
   "metadata": {},
   "outputs": [
    {
     "name": "stdout",
     "output_type": "stream",
     "text": [
      "VaR 5%: 0.9966468948322635\n",
      "VaR 2.5%: 0.9991659929865486\n",
      "VaR 1%: 0.9998806423646364\n"
     ]
    }
   ],
   "source": [
    "# Let's compute the quantiles \n",
    "\n",
    "q05 = np.quantile(loss, .95)\n",
    "q025 = np.quantile(loss, .975)\n",
    "q01 = np.quantile(loss, .99)\n",
    "\n",
    "print(f\"VaR 5%: {q05}\")\n",
    "print(f\"VaR 2.5%: {q025}\")\n",
    "print(f\"VaR 1%: {q01}\")"
   ]
  },
  {
   "cell_type": "code",
   "execution_count": 45,
   "id": "a006bacc-4f7e-4f7a-b7f6-eaf0629e41df",
   "metadata": {},
   "outputs": [
    {
     "name": "stdout",
     "output_type": "stream",
     "text": [
      "ES 5%: 0.9988903559379809\n",
      "ES 2.5%: 0.9997410213807058\n",
      "ES 1%: 0.9999618259991097\n"
     ]
    }
   ],
   "source": [
    "ES05 = np.mean(loss[loss>q05])\n",
    "ES025 = np.mean(loss[loss>q025])\n",
    "ES01 = np.mean(loss[loss>q01])\n",
    "\n",
    "print(f\"ES 5%: {ES05}\")\n",
    "print(f\"ES 2.5%: {ES025}\")\n",
    "print(f\"ES 1%: {ES01}\")"
   ]
  }
 ],
 "metadata": {
  "kernelspec": {
   "display_name": "Python 3 (ipykernel)",
   "language": "python",
   "name": "python3"
  },
  "language_info": {
   "codemirror_mode": {
    "name": "ipython",
    "version": 3
   },
   "file_extension": ".py",
   "mimetype": "text/x-python",
   "name": "python",
   "nbconvert_exporter": "python",
   "pygments_lexer": "ipython3",
   "version": "3.10.13"
  }
 },
 "nbformat": 4,
 "nbformat_minor": 5
}

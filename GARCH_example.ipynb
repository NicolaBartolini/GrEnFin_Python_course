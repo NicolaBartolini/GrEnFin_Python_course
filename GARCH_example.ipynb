{
 "cells": [
  {
   "cell_type": "markdown",
   "id": "e3286250-b550-4a36-b03c-722f578f48eb",
   "metadata": {},
   "source": [
    "### Time Series GARCH example\n",
    "\n",
    "The following notebook is an example of fit of a GARCH(1,1) and a tGARCH(1,1) model "
   ]
  },
  {
   "cell_type": "code",
   "execution_count": 1,
   "id": "6b4bbaac-4309-4a92-a5b4-9dc06042e09d",
   "metadata": {},
   "outputs": [],
   "source": [
    "import numpy as np \n",
    "import pandas as pd \n",
    "import matplotlib.pyplot as plt \n",
    "import yfinance as yf\n",
    "from datetime import datetime, timedelta\n",
    "from time_series_functions import * # to import all the functions contained in the file/package"
   ]
  },
  {
   "cell_type": "code",
   "execution_count": 2,
   "id": "595bcd07-10bb-4ea5-911e-aaf456b3f5c6",
   "metadata": {},
   "outputs": [],
   "source": [
    "### Some useful functions\n",
    "\n",
    "def get_last_working_date():\n",
    "    \n",
    "    today = datetime.now()\n",
    "    last_working_day = today\n",
    "\n",
    "    # Step back until a weekday (Monday to Friday) is found\n",
    "    while last_working_day.weekday() >= 5:  # 5 = Saturday, 6 = Sunday\n",
    "        last_working_day -= timedelta(days=1)\n",
    "    \n",
    "    return last_working_day\n",
    "\n",
    "def data_retriver(tickers, start_date, end_date=None, interval='1d'):\n",
    "\n",
    "    if end_date==None:\n",
    "        end_date = get_last_working_date().strftime(\"%Y-%m-%d\")\n",
    "    \n",
    "    combined_data = pd.DataFrame()\n",
    "    \n",
    "    for name, ticker in tickers.items():\n",
    "        print(f\"Processing {name} ({ticker})...\")\n",
    "        data = yf.download(ticker, start=start_date, end=end_date, interval=interval)\n",
    "        if not data.empty:\n",
    "            combined_data[name] = data[\"Close\"]\n",
    "        else:\n",
    "            print(f\"Warning: No data found for {name} ({ticker}). Skipping.\")\n",
    "    \n",
    "    combined_data = combined_data.interpolate(method='linear')\n",
    "    \n",
    "    return combined_data"
   ]
  },
  {
   "cell_type": "code",
   "execution_count": 8,
   "id": "06b8cf42-f9c8-4d50-93f5-ad3542963188",
   "metadata": {},
   "outputs": [
    {
     "name": "stdout",
     "output_type": "stream",
     "text": [
      "Processing S&P 500 (US) (^GSPC)...\n"
     ]
    },
    {
     "name": "stderr",
     "output_type": "stream",
     "text": [
      "[*********************100%***********************]  1 of 1 completed\n",
      "\n",
      "1 Failed download:\n",
      "['^GSPC']: YFRateLimitError('Too Many Requests. Rate limited. Try after a while.')\n"
     ]
    },
    {
     "name": "stdout",
     "output_type": "stream",
     "text": [
      "Warning: No data found for S&P 500 (US) (^GSPC). Skipping.\n",
      "Processing Dow Jones (US) (^DJI)...\n"
     ]
    },
    {
     "name": "stderr",
     "output_type": "stream",
     "text": [
      "[*********************100%***********************]  1 of 1 completed\n",
      "\n",
      "1 Failed download:\n",
      "['^DJI']: YFRateLimitError('Too Many Requests. Rate limited. Try after a while.')\n"
     ]
    },
    {
     "name": "stdout",
     "output_type": "stream",
     "text": [
      "Warning: No data found for Dow Jones (US) (^DJI). Skipping.\n",
      "Processing Nasdaq (US) (^IXIC)...\n"
     ]
    },
    {
     "name": "stderr",
     "output_type": "stream",
     "text": [
      "[*********************100%***********************]  1 of 1 completed\n",
      "\n",
      "1 Failed download:\n",
      "['^IXIC']: YFRateLimitError('Too Many Requests. Rate limited. Try after a while.')\n"
     ]
    },
    {
     "name": "stdout",
     "output_type": "stream",
     "text": [
      "Warning: No data found for Nasdaq (US) (^IXIC). Skipping.\n",
      "Processing Russell 2000 (US) (^RUT)...\n"
     ]
    },
    {
     "name": "stderr",
     "output_type": "stream",
     "text": [
      "[*********************100%***********************]  1 of 1 completed\n",
      "\n",
      "1 Failed download:\n",
      "['^RUT']: YFRateLimitError('Too Many Requests. Rate limited. Try after a while.')\n"
     ]
    },
    {
     "name": "stdout",
     "output_type": "stream",
     "text": [
      "Warning: No data found for Russell 2000 (US) (^RUT). Skipping.\n",
      "Processing FTSE 100 (UK) (^FTSE)...\n"
     ]
    },
    {
     "name": "stderr",
     "output_type": "stream",
     "text": [
      "[*********************100%***********************]  1 of 1 completed\n",
      "\n",
      "1 Failed download:\n",
      "['^FTSE']: YFRateLimitError('Too Many Requests. Rate limited. Try after a while.')\n"
     ]
    },
    {
     "name": "stdout",
     "output_type": "stream",
     "text": [
      "Warning: No data found for FTSE 100 (UK) (^FTSE). Skipping.\n",
      "Processing DAX (Germany) (^GDAXI)...\n"
     ]
    },
    {
     "name": "stderr",
     "output_type": "stream",
     "text": [
      "[*********************100%***********************]  1 of 1 completed\n",
      "\n",
      "1 Failed download:\n",
      "['^GDAXI']: YFRateLimitError('Too Many Requests. Rate limited. Try after a while.')\n"
     ]
    },
    {
     "name": "stdout",
     "output_type": "stream",
     "text": [
      "Warning: No data found for DAX (Germany) (^GDAXI). Skipping.\n",
      "Processing CAC 40 (France) (^FCHI)...\n"
     ]
    },
    {
     "name": "stderr",
     "output_type": "stream",
     "text": [
      "[*********************100%***********************]  1 of 1 completed\n",
      "\n",
      "1 Failed download:\n",
      "['^FCHI']: YFRateLimitError('Too Many Requests. Rate limited. Try after a while.')\n"
     ]
    },
    {
     "name": "stdout",
     "output_type": "stream",
     "text": [
      "Warning: No data found for CAC 40 (France) (^FCHI). Skipping.\n",
      "Processing Euro Stoxx 50 (Europe) (^STOXX50E)...\n"
     ]
    },
    {
     "name": "stderr",
     "output_type": "stream",
     "text": [
      "[*********************100%***********************]  1 of 1 completed\n",
      "\n",
      "1 Failed download:\n",
      "['^STOXX50E']: YFRateLimitError('Too Many Requests. Rate limited. Try after a while.')\n"
     ]
    },
    {
     "name": "stdout",
     "output_type": "stream",
     "text": [
      "Warning: No data found for Euro Stoxx 50 (Europe) (^STOXX50E). Skipping.\n",
      "Processing IBEX 35 (Spain) (^IBEX)...\n"
     ]
    },
    {
     "name": "stderr",
     "output_type": "stream",
     "text": [
      "[*********************100%***********************]  1 of 1 completed\n",
      "\n",
      "1 Failed download:\n",
      "['^IBEX']: YFRateLimitError('Too Many Requests. Rate limited. Try after a while.')\n"
     ]
    },
    {
     "name": "stdout",
     "output_type": "stream",
     "text": [
      "Warning: No data found for IBEX 35 (Spain) (^IBEX). Skipping.\n",
      "Processing FTSE MIB (Italy) (FTSEMIB.MI)...\n"
     ]
    },
    {
     "name": "stderr",
     "output_type": "stream",
     "text": [
      "[*********************100%***********************]  1 of 1 completed\n",
      "\n",
      "1 Failed download:\n",
      "['FTSEMIB.MI']: YFRateLimitError('Too Many Requests. Rate limited. Try after a while.')\n"
     ]
    },
    {
     "name": "stdout",
     "output_type": "stream",
     "text": [
      "Warning: No data found for FTSE MIB (Italy) (FTSEMIB.MI). Skipping.\n",
      "Processing AEX (Netherlands) (^AEX)...\n"
     ]
    },
    {
     "name": "stderr",
     "output_type": "stream",
     "text": [
      "[*********************100%***********************]  1 of 1 completed\n",
      "\n",
      "1 Failed download:\n",
      "['^AEX']: YFRateLimitError('Too Many Requests. Rate limited. Try after a while.')\n"
     ]
    },
    {
     "name": "stdout",
     "output_type": "stream",
     "text": [
      "Warning: No data found for AEX (Netherlands) (^AEX). Skipping.\n"
     ]
    }
   ],
   "source": [
    "# List of major stock index tickers\n",
    "indexes = {\n",
    "    \"S&P 500 (US)\": \"^GSPC\",\n",
    "    \"Dow Jones (US)\": \"^DJI\",\n",
    "    \"Nasdaq (US)\": \"^IXIC\",\n",
    "    \"Russell 2000 (US)\": \"^RUT\",\n",
    "    \"FTSE 100 (UK)\": \"^FTSE\",\n",
    "    \"DAX (Germany)\": \"^GDAXI\",\n",
    "    \"CAC 40 (France)\": \"^FCHI\",\n",
    "    \"Euro Stoxx 50 (Europe)\": \"^STOXX50E\",\n",
    "    \"IBEX 35 (Spain)\": \"^IBEX\",\n",
    "    \"FTSE MIB (Italy)\": \"FTSEMIB.MI\",\n",
    "    \"AEX (Netherlands)\": \"^AEX\"\n",
    "}\n",
    "\n",
    "# indexes = {\n",
    "#     \"S&P 500 (US)\": \"^GSPC\",\n",
    "#     \"FTSE MIB (Italy)\" : \"FTSEMIB.MI\"}\n",
    "\n",
    "# Define the date range\n",
    "start_date = \"2010-01-04\"\n",
    "end_date = get_last_working_date().strftime(\"%Y-%m-%d\")\n",
    "\n",
    "# Loop through the tickers and add adjusted close data to the combined DataFrame\n",
    "\n",
    "combined_data = pd.DataFrame()\n",
    "\n",
    "for name, ticker in indexes.items():\n",
    "    print(f\"Processing {name} ({ticker})...\")\n",
    "    data = yf.download(ticker, start=start_date, end=end_date, interval=\"1d\")\n",
    "    if not data.empty:\n",
    "        combined_data[name] = data[\"Close\"]\n",
    "    else:\n",
    "        print(f\"Warning: No data found for {name} ({ticker}). Skipping.\")"
   ]
  },
  {
   "cell_type": "code",
   "execution_count": 6,
   "id": "8d457d7a-34f1-48da-bfc4-c98bb91cb5c2",
   "metadata": {},
   "outputs": [
    {
     "data": {
      "text/plain": [
       "'2025-05-09'"
      ]
     },
     "execution_count": 6,
     "metadata": {},
     "output_type": "execute_result"
    }
   ],
   "source": [
    "end_date"
   ]
  },
  {
   "cell_type": "code",
   "execution_count": 4,
   "id": "4bc9b731-17a6-474a-8071-eeae7cab2b8e",
   "metadata": {},
   "outputs": [
    {
     "data": {
      "text/html": [
       "<div>\n",
       "<style scoped>\n",
       "    .dataframe tbody tr th:only-of-type {\n",
       "        vertical-align: middle;\n",
       "    }\n",
       "\n",
       "    .dataframe tbody tr th {\n",
       "        vertical-align: top;\n",
       "    }\n",
       "\n",
       "    .dataframe thead th {\n",
       "        text-align: right;\n",
       "    }\n",
       "</style>\n",
       "<table border=\"1\" class=\"dataframe\">\n",
       "  <thead>\n",
       "    <tr style=\"text-align: right;\">\n",
       "      <th></th>\n",
       "    </tr>\n",
       "  </thead>\n",
       "  <tbody>\n",
       "  </tbody>\n",
       "</table>\n",
       "</div>"
      ],
      "text/plain": [
       "Empty DataFrame\n",
       "Columns: []\n",
       "Index: []"
      ]
     },
     "execution_count": 4,
     "metadata": {},
     "output_type": "execute_result"
    }
   ],
   "source": [
    "np.round(combined_data.head(15),4)"
   ]
  },
  {
   "cell_type": "code",
   "execution_count": 5,
   "id": "58b2472f-45ca-41af-81ab-73720f47ee53",
   "metadata": {},
   "outputs": [
    {
     "ename": "TypeError",
     "evalue": "no numeric data to plot",
     "output_type": "error",
     "traceback": [
      "\u001b[1;31m---------------------------------------------------------------------------\u001b[0m",
      "\u001b[1;31mTypeError\u001b[0m                                 Traceback (most recent call last)",
      "Cell \u001b[1;32mIn[5], line 1\u001b[0m\n\u001b[1;32m----> 1\u001b[0m \u001b[43mcombined_data\u001b[49m\u001b[38;5;241;43m.\u001b[39;49m\u001b[43mplot\u001b[49m\u001b[43m(\u001b[49m\u001b[43m)\u001b[49m\n\u001b[0;32m      2\u001b[0m plt\u001b[38;5;241m.\u001b[39mgrid()\n\u001b[0;32m      3\u001b[0m plt\u001b[38;5;241m.\u001b[39mylabel(\u001b[38;5;124m'\u001b[39m\u001b[38;5;124mPrice\u001b[39m\u001b[38;5;124m'\u001b[39m)\n",
      "File \u001b[1;32m~\\anaconda3\\envs\\env2\\lib\\site-packages\\pandas\\plotting\\_core.py:1030\u001b[0m, in \u001b[0;36mPlotAccessor.__call__\u001b[1;34m(self, *args, **kwargs)\u001b[0m\n\u001b[0;32m   1027\u001b[0m             label_name \u001b[38;5;241m=\u001b[39m label_kw \u001b[38;5;129;01mor\u001b[39;00m data\u001b[38;5;241m.\u001b[39mcolumns\n\u001b[0;32m   1028\u001b[0m             data\u001b[38;5;241m.\u001b[39mcolumns \u001b[38;5;241m=\u001b[39m label_name\n\u001b[1;32m-> 1030\u001b[0m \u001b[38;5;28;01mreturn\u001b[39;00m plot_backend\u001b[38;5;241m.\u001b[39mplot(data, kind\u001b[38;5;241m=\u001b[39mkind, \u001b[38;5;241m*\u001b[39m\u001b[38;5;241m*\u001b[39mkwargs)\n",
      "File \u001b[1;32m~\\anaconda3\\envs\\env2\\lib\\site-packages\\pandas\\plotting\\_matplotlib\\__init__.py:71\u001b[0m, in \u001b[0;36mplot\u001b[1;34m(data, kind, **kwargs)\u001b[0m\n\u001b[0;32m     69\u001b[0m         kwargs[\u001b[38;5;124m\"\u001b[39m\u001b[38;5;124max\u001b[39m\u001b[38;5;124m\"\u001b[39m] \u001b[38;5;241m=\u001b[39m \u001b[38;5;28mgetattr\u001b[39m(ax, \u001b[38;5;124m\"\u001b[39m\u001b[38;5;124mleft_ax\u001b[39m\u001b[38;5;124m\"\u001b[39m, ax)\n\u001b[0;32m     70\u001b[0m plot_obj \u001b[38;5;241m=\u001b[39m PLOT_CLASSES[kind](data, \u001b[38;5;241m*\u001b[39m\u001b[38;5;241m*\u001b[39mkwargs)\n\u001b[1;32m---> 71\u001b[0m \u001b[43mplot_obj\u001b[49m\u001b[38;5;241;43m.\u001b[39;49m\u001b[43mgenerate\u001b[49m\u001b[43m(\u001b[49m\u001b[43m)\u001b[49m\n\u001b[0;32m     72\u001b[0m plot_obj\u001b[38;5;241m.\u001b[39mdraw()\n\u001b[0;32m     73\u001b[0m \u001b[38;5;28;01mreturn\u001b[39;00m plot_obj\u001b[38;5;241m.\u001b[39mresult\n",
      "File \u001b[1;32m~\\anaconda3\\envs\\env2\\lib\\site-packages\\pandas\\plotting\\_matplotlib\\core.py:499\u001b[0m, in \u001b[0;36mMPLPlot.generate\u001b[1;34m(self)\u001b[0m\n\u001b[0;32m    497\u001b[0m \u001b[38;5;129m@final\u001b[39m\n\u001b[0;32m    498\u001b[0m \u001b[38;5;28;01mdef\u001b[39;00m \u001b[38;5;21mgenerate\u001b[39m(\u001b[38;5;28mself\u001b[39m) \u001b[38;5;241m-\u001b[39m\u001b[38;5;241m>\u001b[39m \u001b[38;5;28;01mNone\u001b[39;00m:\n\u001b[1;32m--> 499\u001b[0m     \u001b[38;5;28;43mself\u001b[39;49m\u001b[38;5;241;43m.\u001b[39;49m\u001b[43m_compute_plot_data\u001b[49m\u001b[43m(\u001b[49m\u001b[43m)\u001b[49m\n\u001b[0;32m    500\u001b[0m     fig \u001b[38;5;241m=\u001b[39m \u001b[38;5;28mself\u001b[39m\u001b[38;5;241m.\u001b[39mfig\n\u001b[0;32m    501\u001b[0m     \u001b[38;5;28mself\u001b[39m\u001b[38;5;241m.\u001b[39m_make_plot(fig)\n",
      "File \u001b[1;32m~\\anaconda3\\envs\\env2\\lib\\site-packages\\pandas\\plotting\\_matplotlib\\core.py:698\u001b[0m, in \u001b[0;36mMPLPlot._compute_plot_data\u001b[1;34m(self)\u001b[0m\n\u001b[0;32m    696\u001b[0m \u001b[38;5;66;03m# no non-numeric frames or series allowed\u001b[39;00m\n\u001b[0;32m    697\u001b[0m \u001b[38;5;28;01mif\u001b[39;00m is_empty:\n\u001b[1;32m--> 698\u001b[0m     \u001b[38;5;28;01mraise\u001b[39;00m \u001b[38;5;167;01mTypeError\u001b[39;00m(\u001b[38;5;124m\"\u001b[39m\u001b[38;5;124mno numeric data to plot\u001b[39m\u001b[38;5;124m\"\u001b[39m)\n\u001b[0;32m    700\u001b[0m \u001b[38;5;28mself\u001b[39m\u001b[38;5;241m.\u001b[39mdata \u001b[38;5;241m=\u001b[39m numeric_data\u001b[38;5;241m.\u001b[39mapply(\u001b[38;5;28mtype\u001b[39m(\u001b[38;5;28mself\u001b[39m)\u001b[38;5;241m.\u001b[39m_convert_to_ndarray)\n",
      "\u001b[1;31mTypeError\u001b[0m: no numeric data to plot"
     ]
    }
   ],
   "source": [
    "combined_data.plot()\n",
    "plt.grid()\n",
    "plt.ylabel('Price')\n",
    "plt.xlabel('Trading day')\n",
    "plt.show()"
   ]
  },
  {
   "cell_type": "code",
   "execution_count": null,
   "id": "4fbc82b3-9239-429a-935f-8fe082f1e3c0",
   "metadata": {},
   "outputs": [],
   "source": [
    "# Let's compute the log-returns \n",
    "\n",
    "df_returns = np.log(combined_data).diff().dropna()\n",
    "df_returns.head(10)"
   ]
  },
  {
   "cell_type": "code",
   "execution_count": null,
   "id": "aad560a7-18a6-41b2-b704-53fdac4b6a4c",
   "metadata": {},
   "outputs": [],
   "source": [
    "# Let's check the distributions\n",
    "\n",
    "x = np.linspace(-5, 5, 1000)\n",
    "gauss_pdf = norm.pdf(x)\n",
    "\n",
    "for item in df_returns.columns:\n",
    "\n",
    "    rt = df_returns[item].values\n",
    "    std_rt = (rt - np.mean(rt))/np.std(rt) # let's standardized the log-returns \n",
    "    \n",
    "    plt.figure(figsize=(7,4))\n",
    "    plt.hist(std_rt, bins=150, density=True)\n",
    "    plt.plot(x, gauss_pdf)\n",
    "    plt.grid()\n",
    "    plt.title(item)\n",
    "    plt.show()\n",
    "    "
   ]
  },
  {
   "cell_type": "code",
   "execution_count": null,
   "id": "26d09b8c-cd52-45aa-9105-2cb5d283eedb",
   "metadata": {},
   "outputs": [],
   "source": [
    "for item in df_returns.columns:\n",
    "\n",
    "        rt = df_returns[item].values \n",
    "        \n",
    "        params = [0, 0.0002, 0.1, .2, 0.0002]\n",
    "        params[1:] = np.log(params[1:])\n",
    "        fitted_params, fun, grad, sigma_square, eps = fit(params, rt.flatten(), 1, 1, 'normal', method='BFGS')\n",
    "        \n",
    "        # params = [0, 0.0002, 0.1, .2, 5, 0.0002] # for the student-t\n",
    "        # params[1:] = np.log(params[1:])\n",
    "        # fitted_params, fun, grad, sigma_square, eps = fit(params, rt.flatten(), 1, 1, 't', method='BFGS')\n",
    "    \n",
    "        fig, axes = plt.subplots(2, 1, figsize=(8, 5))\n",
    "        # Top-left plot\n",
    "        axes[0].plot(df_returns[item].index, rt, label='returns', color='blue')\n",
    "        axes[0].set_title('GARCH(1,1) '+item)\n",
    "        axes[0].legend()\n",
    "        axes[0].grid()\n",
    "        \n",
    "        # Bottom-left plot\n",
    "        axes[1].plot(df_returns[item].index, np.sqrt(sigma_square), label='garch vol', color='red')\n",
    "        axes[1].set_title(\" \")\n",
    "        axes[1].legend()\n",
    "        axes[1].grid() \n",
    "        plt.show() \n",
    "        \n",
    "        plt.figure(figsize=(7,4))\n",
    "        plt.hist(eps, bins=150, density=True)\n",
    "        plt.plot(x, gauss_pdf)\n",
    "        plt.grid()\n",
    "        plt.title(item)\n",
    "        plt.show() \n",
    "        \n",
    "        break\n",
    "    "
   ]
  },
  {
   "cell_type": "code",
   "execution_count": null,
   "id": "36d17d58-9c42-4a24-b354-23b9ac9c94a7",
   "metadata": {},
   "outputs": [],
   "source": [
    "for item in df_returns.columns:\n",
    "\n",
    "        rt = df_returns[item].values\n",
    "        \n",
    "        params = [0, 0.0002, 0.1, .2, 5, 0.0002] # for the student-t\n",
    "        params[1:] = np.log(params[1:])\n",
    "        fitted_params, fun, grad, sigma_square, eps = fit(params, rt.flatten(), 1, 1, 't', method='BFGS')\n",
    "    \n",
    "        fig, axes = plt.subplots(2, 1, figsize=(8, 5))\n",
    "        # Top-left plot\n",
    "        axes[0].plot(df_returns[item].index, rt, label='returns', color='blue')\n",
    "        axes[0].set_title('tGARCH(1,1) '+item)\n",
    "        axes[0].legend()\n",
    "        axes[0].grid()\n",
    "        \n",
    "        # Bottom-left plot\n",
    "        axes[1].plot(df_returns[item].index, np.sqrt(sigma_square), label='garch vol', color='red')\n",
    "        axes[1].set_title(\" \")\n",
    "        axes[1].legend()\n",
    "        axes[1].grid() \n",
    "        plt.show() \n",
    "    \n",
    "        plt.figure(figsize=(7,4))\n",
    "        plt.hist(eps, bins=150, density=True)\n",
    "        plt.plot(x, gauss_pdf)\n",
    "        plt.grid()\n",
    "        plt.title(item)\n",
    "        plt.show() \n",
    "\n",
    "        mu = fitted_params['mu']\n",
    "        omega = fitted_params['omega']\n",
    "        alphas =  np.array([fitted_params['alpha_1']])\n",
    "        phis = np.array([fitted_params['phi_1']])\n",
    "        sigma_square0 = fitted_params['sigma_square0']\n",
    "        \n",
    "        break\n",
    "    "
   ]
  }
 ],
 "metadata": {
  "kernelspec": {
   "display_name": "Python 3 (ipykernel)",
   "language": "python",
   "name": "python3"
  },
  "language_info": {
   "codemirror_mode": {
    "name": "ipython",
    "version": 3
   },
   "file_extension": ".py",
   "mimetype": "text/x-python",
   "name": "python",
   "nbconvert_exporter": "python",
   "pygments_lexer": "ipython3",
   "version": "3.10.13"
  }
 },
 "nbformat": 4,
 "nbformat_minor": 5
}

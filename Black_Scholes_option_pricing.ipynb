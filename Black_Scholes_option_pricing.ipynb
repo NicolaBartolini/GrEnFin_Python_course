{
 "cells": [
  {
   "cell_type": "markdown",
   "id": "22b5c7e9-79c9-4c17-9ae5-799f29330fcd",
   "metadata": {},
   "source": [
    "## The Black-Scholes-Merton model\n",
    "\n",
    "#### The stock dynamic \n",
    "\n",
    "$$\n",
    "    dS_t = (r-q)S_tdt + S_t\\sigma dW_t^Q\n",
    "$$\n",
    "$$\n",
    "    S_T = S_t e^{(r-q-\\frac{\\sigma^2}{2})(T-t) +\\sigma(W_T^Q - W_t^Q)}\n",
    "$$\n",
    "$W_t^Q$ is the Brownian Motion under the risk-neutral measure $Q$, $r$ is the risk-free rate, $q$ is the continuous dividend yield, $\\sigma$ is the volatility, then the formula for the European Call and Put option:\n",
    "$$\n",
    "    C(t,T) = S_te^{-q(T-t)}\\Phi(d1) -Ke^{-r(T-t)}\\Phi(d2)\n",
    "$$ \n",
    "$$\n",
    "    P(t,T) =  Ke^{-r(T-t)}\\Phi(-d2) - S_te^{-q(T-t)}\\Phi(-d1)\n",
    "$$\n",
    "$$\n",
    "    d1 = \\frac{\\log\\left(\\frac{S_t}{K} \\right) + \\left(r-q+\\frac{\\sigma^2}{2}\\right)(T-t)}{\\sigma\\sqrt{T-t}}\n",
    "$$\n",
    "$$\n",
    "    d2 = \\frac{\\log\\left(\\frac{S_t}{K} \\right) + \\left(r-q-\\frac{\\sigma^2}{2}\\right)(T-t)}{\\sigma\\sqrt{T-t}}\n",
    "$$"
   ]
  },
  {
   "cell_type": "code",
   "execution_count": 1,
   "id": "3ac56ddd-5aed-4c15-9985-41ffb7a084d4",
   "metadata": {},
   "outputs": [],
   "source": [
    "from functions import * \n",
    "import numpy as np"
   ]
  },
  {
   "cell_type": "code",
   "execution_count": 13,
   "id": "73078b01-dc1f-4816-a27d-0afed17df32a",
   "metadata": {},
   "outputs": [
    {
     "name": "stdout",
     "output_type": "stream",
     "text": [
      "Call price:\t0.2037\n",
      "Put price:\t0.4437\n"
     ]
    }
   ],
   "source": [
    "# Let's price a European call and put option with 6 months maturity\n",
    "r = 0\n",
    "sigma = .2\n",
    "S0 = 3.76\n",
    "K = 4 \n",
    "q = 0\n",
    "T = 1\n",
    "\n",
    "C = Eurocall_Black_Scholes(S0, K, r, q, sigma, T)\n",
    "P = Europut_Black_Scholes(S0, K, r, q, sigma, T)\n",
    "\n",
    "print(f'Call price:\\t{C:.4f}')\n",
    "print(f'Put price:\\t{P:.4f}')"
   ]
  },
  {
   "cell_type": "markdown",
   "id": "ef07d504-0276-480e-8316-c810a7274406",
   "metadata": {},
   "source": [
    "### Black-Scholes-Merton model via Monte-Carlo simulations\n",
    "\n",
    "The Monte-Carlo pricing method is based on the strong law of large nummbers (SLLN), namely it approximate the inegral\n",
    "$$\n",
    "    \\Phi(S_t,t,T) = e^{-r(T-t)}E[\\Phi(S_T,T)|\\mathcal{F}_t] \\approx e^{-r(T-t)} \\frac{1}{n}\\sum_{i=1}^n \\Phi(S_T^{(i)},T)\n",
    "$$\n",
    "where are independent simulation of the undrlying process $S_T^{(i)}$. Thanks to the SLLN $\\frac{1}{n}\\sum_{i=1}^n \\Phi(S_T^{(i)},T) \\rightarrow E[\\Phi(S_T,T)|\\mathcal{F}_t]$ a.s. and $L^2$ as $n\\rightarrow+\\infty$.\n",
    "\n",
    "### Simulation of the Geometric Brownian Motion (GBM)\n",
    "\n",
    "In the case of the GBM we know the exact distribution of for the increments $r_t = \\log\\left(\\frac{S_{t}}{S_{t-\\Delta t}} \\right)$, which are conditionally Gaussian with mean $(r-q-\\frac{\\sigma^2}{2})\\Delta t$ and variance $\\sigma^2\\Delta t$ (basic properties of the Wiener Integral)\n",
    "\n",
    "### Martingale property\n",
    "\n",
    "A process $M_t$ is a martinagale w.r.t. to the filtration $\\mathcal{F}_t$ if:\n",
    "\n",
    "1) $E[M_t]<+\\infty$\n",
    "2) $M_t$ is $\\mathcal{F}_t$ measurable\n",
    "3) $E[M_t|\\mathcal{F}_s] = M_s$ for $s<t$\n",
    "\n",
    "The it holds the property:\n",
    "$$\n",
    "    E[M_t] = E[M_{t_0}] \\quad \\forall t>t_0 \\quad E[M_t|\\mathcal{F}_{t_0}] = M_{t_0} \\quad \\forall t>t_0\n",
    "$$"
   ]
  },
  {
   "cell_type": "code",
   "execution_count": 8,
   "id": "1bacb628-ec29-45a5-a382-1e73eaeddb0f",
   "metadata": {},
   "outputs": [],
   "source": [
    "# Let's simulate the GBM and chack if it is a martingale or not\n",
    "np.random.seed(1)\n",
    "\n",
    "r = 0\n",
    "sigma = .2\n",
    "S0 = 3.76\n",
    "q = 0\n",
    "T = .5\n",
    "n_steps = 20\n",
    "\n",
    "St = simulate_gbm(S0, r, q, sigma, T, n_steps, N=20)"
   ]
  },
  {
   "cell_type": "code",
   "execution_count": 9,
   "id": "e4de074c-1406-40d5-9cf0-0213c1e41c31",
   "metadata": {},
   "outputs": [
    {
     "data": {
      "text/plain": [
       "array([3.76      , 3.76011064, 3.75995405, 3.7599961 , 3.76006852,\n",
       "       3.75993549, 3.75994098, 3.75984688, 3.75979819, 3.75989768,\n",
       "       3.75985061, 3.75996271, 3.76012059, 3.76024623, 3.76044154,\n",
       "       3.76057118, 3.76064044, 3.76075901, 3.76085827, 3.76081657,\n",
       "       3.7606451 ])"
      ]
     },
     "execution_count": 9,
     "metadata": {},
     "output_type": "execute_result"
    }
   ],
   "source": [
    "# Check the martingale property\n",
    "\n",
    "np.mean(St, axis=1)"
   ]
  },
  {
   "cell_type": "code",
   "execution_count": 17,
   "id": "4e4703f9-8afc-4208-a6b9-8b447b079075",
   "metadata": {},
   "outputs": [
    {
     "name": "stdout",
     "output_type": "stream",
     "text": [
      "Mc Call price:\t0.2030\n",
      "MC Put price:\t0.4438\n"
     ]
    }
   ],
   "source": [
    "# Let's price a European call and put option with 6 months maturity\n",
    "np.random.seed(1)\n",
    "\n",
    "r = 0\n",
    "sigma = .2\n",
    "S0 = 3.76\n",
    "K = 4 \n",
    "q = 0\n",
    "T = 1\n",
    "\n",
    "n_steps = int(252*T)\n",
    "N = 20\n",
    "\n",
    "St = simulate_gbm(S0, r, q, sigma, T, n_steps, N)\n",
    "\n",
    "# Since we have the exact conditional distribution we can simulate directly with one step to price the European style options\n",
    "C = EuropeanOption(St[-1], K, r, T, 1)\n",
    "P = EuropeanOption(St[-1], K, r, T, -1)\n",
    "\n",
    "print(f'Mc Call price:\\t{C:.4f}')\n",
    "print(f'MC Put price:\\t{P:.4f}')"
   ]
  },
  {
   "cell_type": "code",
   "execution_count": null,
   "id": "f9dbdeab-fcde-4950-9a97-ba3380b50cf7",
   "metadata": {},
   "outputs": [],
   "source": []
  },
  {
   "cell_type": "code",
   "execution_count": null,
   "id": "90699e81-552f-4419-821d-2c52a3a6c97d",
   "metadata": {},
   "outputs": [],
   "source": []
  }
 ],
 "metadata": {
  "kernelspec": {
   "display_name": "Python 3 (ipykernel)",
   "language": "python",
   "name": "python3"
  },
  "language_info": {
   "codemirror_mode": {
    "name": "ipython",
    "version": 3
   },
   "file_extension": ".py",
   "mimetype": "text/x-python",
   "name": "python",
   "nbconvert_exporter": "python",
   "pygments_lexer": "ipython3",
   "version": "3.10.13"
  }
 },
 "nbformat": 4,
 "nbformat_minor": 5
}

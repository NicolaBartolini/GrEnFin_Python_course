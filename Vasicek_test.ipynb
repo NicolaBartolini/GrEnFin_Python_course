{
 "cells": [
  {
   "cell_type": "markdown",
   "id": "ae9b159b-762c-4700-81e9-f3ef83f6b8e5",
   "metadata": {},
   "source": [
    "## The Vasicek model\n",
    "\n",
    "The $Q$ dynamics of the short rate in the C.I.R. model is the following:\n",
    "\n",
    "$$\n",
    "    dr_t = k(\\theta - r_t)dt +\\sigma dW_t\n",
    "$$\n",
    "\n",
    "The conditional mean and variance are:\n",
    "\n",
    "$$\n",
    "\\mathbb{E}[r_t|r_s] = r_s e^{-k(t-s)} + \\theta(1-e^{-k(t-s)}) \\quad \\forall s<t \n",
    "$$\n",
    "\n",
    "$$\n",
    "\\operatorname{Var}[r_t \\mid r_s] = \\frac{\\sigma^2}{2k} (1 - e^{-2k(t-s)}) \\quad \\forall s < t\n",
    "$$"
   ]
  },
  {
   "cell_type": "markdown",
   "id": "b8b0fd10-3e63-4472-bb3f-53c032c44bd6",
   "metadata": {},
   "source": [
    "The zero-coupon bond pricing formula\n",
    "$$\n",
    "\\begin{split}\n",
    "    &P(t,T) = \\exp\\{A(t,T) - B(t,T)r_t\\}\\\\\n",
    "    &A(t,T) = \\bigg(\\theta -\\frac{\\sigma^2}{2k^2}\\bigg)\\bigg(B(t,T) - (T-t)\\bigg) - \\frac{\\sigma^2}{4k}B(t,T)^2\\\\\n",
    "    &B(t,T) = \\frac{1}{k}\\bigg(1 - \\exp(-k(T-t))\\bigg)\n",
    "\\end{split}\n",
    "$$"
   ]
  },
  {
   "cell_type": "code",
   "execution_count": 1,
   "id": "32c33dc6-8516-4deb-a85c-918df4b462cf",
   "metadata": {},
   "outputs": [],
   "source": [
    "import numpy as np \n",
    "from functions import *\n",
    "from scipy.optimize import minimize, Bounds\n",
    "import matplotlib.pyplot as plt"
   ]
  },
  {
   "cell_type": "code",
   "execution_count": 2,
   "id": "eb2022e0-ff4d-4d77-8e21-a2ef4559a190",
   "metadata": {},
   "outputs": [],
   "source": [
    "true_theta = .025\n",
    "true_k = 22.212\n",
    "true_sigma = .952\n",
    "r0 = .00175\n",
    "maturities = np.cumsum(np.ones(12) * (1/12))\n",
    " \n",
    "True_bonds = Vasicek_bond(r0, true_theta, true_k, true_sigma, maturities)"
   ]
  },
  {
   "cell_type": "code",
   "execution_count": 3,
   "id": "64ba841e-39de-4293-bfac-a58ea025683a",
   "metadata": {},
   "outputs": [
    {
     "data": {
      "text/plain": [
       "array([0.99882666, 0.99695197, 0.99497326, 0.99298169, 0.99099147,\n",
       "       0.98900482, 0.9870221 , 0.98504334, 0.98306854, 0.9810977 ,\n",
       "       0.97913082, 0.97716787])"
      ]
     },
     "execution_count": 3,
     "metadata": {},
     "output_type": "execute_result"
    }
   ],
   "source": [
    "True_bonds"
   ]
  },
  {
   "cell_type": "code",
   "execution_count": 4,
   "id": "ca91790e-ff9d-451f-8cde-a352da728751",
   "metadata": {},
   "outputs": [
    {
     "data": {
      "text/plain": [
       "array([0.08333333, 0.16666667, 0.25      , 0.33333333, 0.41666667,\n",
       "       0.5       , 0.58333333, 0.66666667, 0.75      , 0.83333333,\n",
       "       0.91666667, 1.        ])"
      ]
     },
     "execution_count": 4,
     "metadata": {},
     "output_type": "execute_result"
    }
   ],
   "source": [
    "maturities"
   ]
  },
  {
   "cell_type": "code",
   "execution_count": 5,
   "id": "4f11f90e-7706-4fbb-8c7e-e4f2c01bfe13",
   "metadata": {},
   "outputs": [],
   "source": [
    "parms = np.array([ .01, 15, .5]) \n",
    "\n",
    "res = calibrate_vasicek(parms, True_bonds, maturities, r0, 'L-BFGS-B')"
   ]
  },
  {
   "cell_type": "code",
   "execution_count": 6,
   "id": "f527500c-0e07-4a03-8d2c-c5ed3a3024f2",
   "metadata": {},
   "outputs": [
    {
     "data": {
      "text/plain": [
       "array([ 0.02589805, 15.00000243,  0.49996799])"
      ]
     },
     "execution_count": 6,
     "metadata": {},
     "output_type": "execute_result"
    }
   ],
   "source": [
    "res.x"
   ]
  },
  {
   "cell_type": "code",
   "execution_count": 7,
   "id": "c1e3a6f6-a1b5-4493-ad63-fe69a5bc5058",
   "metadata": {},
   "outputs": [
    {
     "data": {
      "text/plain": [
       "9.492793841131658e-06"
      ]
     },
     "execution_count": 7,
     "metadata": {},
     "output_type": "execute_result"
    }
   ],
   "source": [
    "res.fun"
   ]
  },
  {
   "cell_type": "code",
   "execution_count": null,
   "id": "0ff35d76-7142-49e3-9f31-e88368ae5ada",
   "metadata": {},
   "outputs": [],
   "source": []
  },
  {
   "cell_type": "code",
   "execution_count": null,
   "id": "36baa3f2-980f-48b0-916c-642d16098378",
   "metadata": {},
   "outputs": [],
   "source": []
  },
  {
   "cell_type": "code",
   "execution_count": null,
   "id": "653f05a6-62a4-43e3-845d-1aaaa4edd0b3",
   "metadata": {},
   "outputs": [],
   "source": []
  }
 ],
 "metadata": {
  "kernelspec": {
   "display_name": "Python 3 (ipykernel)",
   "language": "python",
   "name": "python3"
  },
  "language_info": {
   "codemirror_mode": {
    "name": "ipython",
    "version": 3
   },
   "file_extension": ".py",
   "mimetype": "text/x-python",
   "name": "python",
   "nbconvert_exporter": "python",
   "pygments_lexer": "ipython3",
   "version": "3.10.13"
  }
 },
 "nbformat": 4,
 "nbformat_minor": 5
}

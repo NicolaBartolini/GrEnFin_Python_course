{
 "cells": [
  {
   "cell_type": "markdown",
   "id": "836408d6-96e1-4429-ba5d-e69a74bdab4c",
   "metadata": {},
   "source": [
    "## Pricing basket options \n",
    "\n",
    "A basket option is a financial derivative, more specifically an exotic option, whose underlying is a weighted sum or average of different assets that have been grouped together in a basket. A basket option is similar to an index option, where a number of stocks have been grouped together in an index and the option is based on the price of the index, but differs in that the members and weightings of an index can change over time while those in a basket option do not.\n",
    "\n",
    "#### The multivariate correlated Geometric Brownian Motion\n",
    "\n",
    "$$\n",
    "    dS_t = \\mu S_t dt + S_t\\Sigma dW_t\n",
    "$$\n",
    "Where:\n",
    "$$\n",
    "S_t = \n",
    "\\begin{bmatrix}\n",
    "S_{1,t} \\\\\n",
    "S_{2,t} \\\\\n",
    "\\vdots \\\\\n",
    "S_{n,t} \\\\\n",
    "\\end{bmatrix} \\quad\n",
    "\\mu_{n\\times n} = \n",
    "\\begin{bmatrix}\n",
    "\\mu_1 \\cdots 0 \\\\\n",
    "\\vdots \\ddots \\vdots \\\\\n",
    "0 \\cdots \\mu_n\n",
    "\\end{bmatrix} \\quad\n",
    "\\Sigma_{n\\times n} = \n",
    "\\begin{bmatrix}\n",
    "\\sigma_1 \\cdots 0 \\\\\n",
    "\\vdots \\ddots \\vdots \\\\\n",
    "0 \\cdots \\sigma_n\n",
    "\\end{bmatrix} \\quad\n",
    "W_t = \n",
    "\\begin{bmatrix}\n",
    "W_{1,t} \\\\\n",
    "W_{2,t} \\\\\n",
    "\\vdots \\\\\n",
    "W_{n,t} \\\\\n",
    "\\end{bmatrix} \\quad\n",
    "E[dW_{i,t}dW_{j,t}] = \\rho_{i,j}dt\n",
    "$$\n",
    "Then, $\\forall i=1,2,..,n$ we have that:\n",
    "$$\n",
    "    S_{i,T} = S_{i,t} e^{\\left(\\mu_i-\\frac{\\sigma_i^2}{2}\\right)(T-t) +\\sigma_i(W_{i,T} - W_{i,t})}\n",
    "$$"
   ]
  },
  {
   "cell_type": "code",
   "execution_count": 1,
   "id": "fc166e31-f38c-4d71-9ad2-735c3019a639",
   "metadata": {},
   "outputs": [],
   "source": [
    "from functions import * \n",
    "import numpy as np"
   ]
  },
  {
   "cell_type": "code",
   "execution_count": 3,
   "id": "ab981c8a-b14f-484e-83dc-33ba4af38c68",
   "metadata": {},
   "outputs": [
    {
     "name": "stdout",
     "output_type": "stream",
     "text": [
      "Basket European Call price:\t7.9231\n",
      "Basket European Put price:\t6.8889\n"
     ]
    }
   ],
   "source": [
    "# A pricing example\n",
    "\n",
    "w = np.array([.33, .33, .34])\n",
    "S0 = np.array([100, 100, 100])\n",
    "\n",
    "sigma1 = .2\n",
    "sigma2 = .175\n",
    "sigma3 = .25\n",
    "\n",
    "rho12 = .1\n",
    "rho13 = .3\n",
    "rho23 = -.2\n",
    "\n",
    "Sigma = np.array([[sigma1**1, sigma1*sigma2*rho12, sigma1*sigma3*rho13],\n",
    "                 [sigma1*sigma2*rho12, sigma2**2, sigma2*sigma3*rho23],\n",
    "                 [sigma1*sigma3*rho13, sigma2*sigma3*rho23, sigma3**2]])\n",
    "\n",
    "K = 100\n",
    "T = 1\n",
    "n_steps = 10\n",
    "N = 15\n",
    "r = .01\n",
    "\n",
    "C = european_basket_option(S0, K, w, r, Sigma, T, n_steps, N, 'call')\n",
    "P = european_basket_option(S0, K, w, r, Sigma, T, n_steps, N, 'put')\n",
    "\n",
    "print(f'Basket European Call price:\\t{C:.4f}')\n",
    "print(f'Basket European Put price:\\t{P:.4f}')"
   ]
  },
  {
   "cell_type": "code",
   "execution_count": null,
   "id": "6b6e7794-0be5-43a5-a51c-b46950709e5b",
   "metadata": {},
   "outputs": [],
   "source": []
  }
 ],
 "metadata": {
  "kernelspec": {
   "display_name": "Python 3 (ipykernel)",
   "language": "python",
   "name": "python3"
  },
  "language_info": {
   "codemirror_mode": {
    "name": "ipython",
    "version": 3
   },
   "file_extension": ".py",
   "mimetype": "text/x-python",
   "name": "python",
   "nbconvert_exporter": "python",
   "pygments_lexer": "ipython3",
   "version": "3.10.13"
  }
 },
 "nbformat": 4,
 "nbformat_minor": 5
}
